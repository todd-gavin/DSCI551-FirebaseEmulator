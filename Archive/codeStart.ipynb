{
 "cells": [
  {
   "attachments": {},
   "cell_type": "markdown",
   "metadata": {},
   "source": [
    "### Connecting to MongoDB Database\n",
    "\n",
    "### RESTful API\n",
    "- Implement RESTful Server using Flask App\n",
    "\n",
    "### Operational Functions:\n",
    "1. PUT: A function to update an existing document in the database. \n",
    "3. GET: A function to retrieve a document from the database. \n",
    "3. POST: A function to create a new document in the database. \n",
    "4. PATCH: A function to partially update a document in the database. \n",
    "5. DELETE: A function to delete a document from the database. \n",
    "6. Filtering functions: Functions to filter documents based on the query parameters provided in the URL, such a:\n",
    "    - orderBy\n",
    "    - limitToFirst/Last\n",
    "    - equalTo\n",
    "    - startAt/endAt\n",
    "\n",
    "### Document Indexing\n",
    "\n",
    "### Command Line Interface"
   ]
  },
  {
   "cell_type": "code",
   "execution_count": null,
   "metadata": {},
   "outputs": [],
   "source": []
  }
 ],
 "metadata": {
  "language_info": {
   "name": "python"
  },
  "orig_nbformat": 4
 },
 "nbformat": 4,
 "nbformat_minor": 2
}

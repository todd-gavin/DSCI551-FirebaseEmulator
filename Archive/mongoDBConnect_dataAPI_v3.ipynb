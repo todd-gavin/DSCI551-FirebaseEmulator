{
 "cells": [
  {
   "cell_type": "code",
   "execution_count": 1,
   "metadata": {},
   "outputs": [],
   "source": [
    "# from pymongo import MongoClient\n",
    "# import pymongo\n",
    "# from pymongo.mongo_client import MongoClient\n",
    "# from pymongo.server_api import ServerApi\n",
    "import requests\n",
    "import json"
   ]
  },
  {
   "attachments": {},
   "cell_type": "markdown",
   "metadata": {},
   "source": [
    "API Key to MongoDB Data API: `GBjgJ9GXI29tDRqQPZDf3h7IWIAnn0HGMp4rjnZdYqGOArpd9BPbFBTqRBqADriL`"
   ]
  },
  {
   "attachments": {},
   "cell_type": "markdown",
   "metadata": {},
   "source": [
    "This command tells you your IP address: `ifconfig | grep \"inet \" | grep -v 127.0.0.1 | awk '{print $2}'`"
   ]
  },
  {
   "cell_type": "code",
   "execution_count": 9,
   "metadata": {},
   "outputs": [],
   "source": [
    "api_key = \"GBjgJ9GXI29tDRqQPZDf3h7IWIAnn0HGMp4rjnZdYqGOArpd9BPbFBTqRBqADriL\""
   ]
  },
  {
   "cell_type": "code",
   "execution_count": 12,
   "metadata": {},
   "outputs": [],
   "source": [
    "url = \"https://us-west-2.aws.data.mongodb-api.com/app/data-yrbnw/endpoint/data/v1/action/findOne\"\n",
    "\n",
    "payload = json.dumps({\n",
    "    \"collection\": \"<COLLECTION_NAME>\",\n",
    "    \"database\": \"<DATABASE_NAME>\",\n",
    "    \"dataSource\": \"Cluster0\",\n",
    "    \"projection\": {\n",
    "        \"_id\": 1\n",
    "    }\n",
    "})\n",
    "\n",
    "# headers = {\n",
    "#   'Content-Type': 'application/json',\n",
    "#   'Access-Control-Request-Headers': '*',\n",
    "#   'api-key': api_key, \n",
    "# }\n",
    "\n",
    "# Set the headers for the GET request\n",
    "headers = {\n",
    "    \"Content-Type\": \"application/json\",\n",
    "    \"Authorization\": \"Bearer \" + api_key\n",
    "}\n",
    "\n",
    "# Set the query parameters for the GET request\n",
    "params = {\n",
    "    \"databaseName\": \"sample_airbnb\",\n",
    "    \"collectionName\": \"listingsAndReviews\"\n",
    "}"
   ]
  },
  {
   "cell_type": "code",
   "execution_count": 5,
   "metadata": {},
   "outputs": [
    {
     "name": "stdout",
     "output_type": "stream",
     "text": [
      "<Response [200]>\n",
      "{\"document\":null}\n"
     ]
    }
   ],
   "source": [
    "response = requests.request(\"POST\", url, headers=headers, data=payload)\n",
    "print(response)\n",
    "\n",
    "print(response.text)"
   ]
  },
  {
   "cell_type": "code",
   "execution_count": 13,
   "metadata": {},
   "outputs": [
    {
     "name": "stdout",
     "output_type": "stream",
     "text": [
      "\n"
     ]
    }
   ],
   "source": [
    "# response = requests.request(\"GET\", url, headers=headers)\n",
    "\n",
    "# Send the GET request and store the response in a variable\n",
    "response = requests.get(url, headers=headers, params=params)\n",
    "\n",
    "print(response.text)"
   ]
  }
 ],
 "metadata": {
  "kernelspec": {
   "display_name": "base",
   "language": "python",
   "name": "python3"
  },
  "language_info": {
   "codemirror_mode": {
    "name": "ipython",
    "version": 3
   },
   "file_extension": ".py",
   "mimetype": "text/x-python",
   "name": "python",
   "nbconvert_exporter": "python",
   "pygments_lexer": "ipython3",
   "version": "3.9.13"
  },
  "orig_nbformat": 4
 },
 "nbformat": 4,
 "nbformat_minor": 2
}

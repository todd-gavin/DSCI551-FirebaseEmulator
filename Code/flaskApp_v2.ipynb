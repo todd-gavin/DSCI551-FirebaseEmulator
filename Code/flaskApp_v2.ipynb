{
 "cells": [
  {
   "attachments": {},
   "cell_type": "markdown",
   "metadata": {},
   "source": [
    "### Using Flask to create RESTful server"
   ]
  },
  {
   "cell_type": "code",
   "execution_count": 16,
   "metadata": {},
   "outputs": [
    {
     "name": "stdout",
     "output_type": "stream",
     "text": [
      " * Serving Flask app \"__main__\" (lazy loading)\n",
      " * Environment: production\n",
      "\u001b[31m   WARNING: This is a development server. Do not use it in a production deployment.\u001b[0m\n",
      "\u001b[2m   Use a production WSGI server instead.\u001b[0m\n",
      " * Debug mode: off\n"
     ]
    },
    {
     "name": "stderr",
     "output_type": "stream",
     "text": [
      " * Running on http://127.0.0.1:5000/ (Press CTRL+C to quit)\n",
      "127.0.0.1 - - [17/Apr/2023 12:28:31] \"PATCH / HTTP/1.1\" 200 -\n"
     ]
    },
    {
     "name": "stdout",
     "output_type": "stream",
     "text": [
      "Log: PATCH request received with data: {'age': 88}\n",
      "Log: PATCH Executed\n"
     ]
    }
   ],
   "source": [
    "from flask import Flask, request, jsonify\n",
    "\n",
    "app = Flask(__name__)\n",
    "\n",
    "# @app.before_request\n",
    "# def before_request():\n",
    "#     if request.method in ['POST', 'PATCH', 'PUT']:\n",
    "#         request.headers['Content-Type'] = 'application/json'\n",
    "\n",
    "@app.before_request\n",
    "def before_request():\n",
    "    if request.method in ['POST', 'PATCH', 'PUT']:\n",
    "        request.environ['CONTENT_TYPE'] = 'application/json'\n",
    "\n",
    "    \n",
    "@app.route('/', methods=['GET', 'POST', 'PUT', 'PATCH', 'DELETE'])\n",
    "def handle_request():\n",
    "    data = request.get_json()\n",
    "\n",
    "    if request.method == 'GET':\n",
    "        print(\"Log: GET Executed\")\n",
    "        return 'GET request received'\n",
    "    \n",
    "    elif request.method == 'POST':\n",
    "        if data:\n",
    "            print(f'Log: POST request received with data: {data}')\n",
    "        else:\n",
    "            print('Log: POST request received without data')\n",
    "        print(\"Log: POST Executed\")\n",
    "        return 'POST request received'\n",
    "    \n",
    "    elif request.method == 'PUT':\n",
    "        if data:\n",
    "            print(f'Log: PUT request received with data: {data}')\n",
    "        else:\n",
    "            print('Log: PUT request received without data')\n",
    "        print(\"Log: PUT Executed\")\n",
    "        return 'PUT request received'\n",
    "    \n",
    "    elif request.method == \"PATCH\":\n",
    "        if data:\n",
    "            print(f'Log: PATCH request received with data: {data}')\n",
    "        else:\n",
    "            print('Log: PATCH request received without data')\n",
    "        print(\"Log: PATCH Executed\")\n",
    "        return 'PATCH request received'\n",
    "    \n",
    "    elif request.method == 'DELETE':\n",
    "        print(\"Log: DELETE Executed\")\n",
    "        return 'DELETE request received'\n",
    "    \n",
    "    else:\n",
    "        return 'Invalid request'\n",
    "\n",
    "\n",
    "if __name__ == '__main__':\n",
    "    app.run(port=5000)\n"
   ]
  }
 ],
 "metadata": {
  "kernelspec": {
   "display_name": "base",
   "language": "python",
   "name": "python3"
  },
  "language_info": {
   "codemirror_mode": {
    "name": "ipython",
    "version": 3
   },
   "file_extension": ".py",
   "mimetype": "text/x-python",
   "name": "python",
   "nbconvert_exporter": "python",
   "pygments_lexer": "ipython3",
   "version": "3.9.13"
  },
  "orig_nbformat": 4
 },
 "nbformat": 4,
 "nbformat_minor": 2
}
